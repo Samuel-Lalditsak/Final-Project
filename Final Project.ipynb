{
 "cells": [
  {
   "cell_type": "markdown",
   "metadata": {},
   "source": [
    "# Final Project"
   ]
  },
  {
   "cell_type": "code",
   "execution_count": null,
   "metadata": {},
   "outputs": [],
   "source": [
    "import datetime\n",
    "class Admin:\n",
    "    def __init__(self, name, email, password):\n",
    "        self.name = name\n",
    "        self.email = email\n",
    "        self.password = password\n",
    "        self.food_items = []\n",
    "        self.users = []\n",
    "\n",
    "    def add_food_item(self, name, quantity, price):\n",
    "        food_item = FoodItem(name, quantity, price)\n",
    "        self.food_items.append(food_item)\n",
    "\n",
    "    def remove_food_item(self, food_id):\n",
    "        for food_item in self.food_items:\n",
    "            if food_item.food_id == food_id:\n",
    "                self.food_items.remove(food_item)\n",
    "                break\n",
    "\n",
    "    def view_food_items(self):\n",
    "        for food_item in self.food_items:\n",
    "            print(f\"{food_item.name} ({food_item.quantity}) [INR {food_item.price}]\")\n",
    "\n",
    "    def add_user(self, name, email, password):\n",
    "        user = User(name, email, password)\n",
    "        self.users.append(user)\n",
    "\n",
    "    def remove_user(self, user_id):\n",
    "        for user in self.users:\n",
    "            if user.user_id == user_id:\n",
    "                self.users.remove(user)\n",
    "                break\n",
    "\n",
    "    def view_users(self):\n",
    "        for user in self.users:\n",
    "            print(f\"{user.name} ({user.email})\")\n",
    "\n",
    "class User:\n",
    "    def __init__(self, name, email, password):\n",
    "        self.name = name\n",
    "        self.email = email\n",
    "        self.password = password\n",
    "        self.orders = []\n",
    "\n",
    "    def place_order(self, food_item, quantity):\n",
    "        order = {\n",
    "            \"food_item\": food_item,\n",
    "            \"quantity\": quantity,\n",
    "            \"date\": datetime.now(),\n",
    "            \"status\": \"Pending\"\n",
    "        }\n",
    "        self.orders.append(order)\n",
    "        \n",
    "    def view_order_history(self):\n",
    "        for order in self.orders:\n",
    "            print(f\"Food Item: {order['food_item']}, Quantity: {order['quantity']}, Date: {order['date']}, Status: {order['status']}\")"
   ]
  }
 ],
 "metadata": {
  "language_info": {
   "name": "python"
  },
  "orig_nbformat": 4
 },
 "nbformat": 4,
 "nbformat_minor": 2
}
